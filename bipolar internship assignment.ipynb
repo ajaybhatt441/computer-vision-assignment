{
 "cells": [
  {
   "cell_type": "code",
   "execution_count": 2,
   "metadata": {},
   "outputs": [],
   "source": [
    "import numpy as np\n",
    "import pandas as pd\n",
    "import matplotlib.pyplot as plt\n",
    "import seaborn as sns"
   ]
  },
  {
   "cell_type": "code",
   "execution_count": 3,
   "metadata": {},
   "outputs": [],
   "source": [
    "data=pd.read_csv('internship assignment bipolar/CVAssignmentDataset.csv')"
   ]
  },
  {
   "cell_type": "code",
   "execution_count": 4,
   "metadata": {},
   "outputs": [
    {
     "data": {
      "text/html": [
       "<div>\n",
       "<style scoped>\n",
       "    .dataframe tbody tr th:only-of-type {\n",
       "        vertical-align: middle;\n",
       "    }\n",
       "\n",
       "    .dataframe tbody tr th {\n",
       "        vertical-align: top;\n",
       "    }\n",
       "\n",
       "    .dataframe thead th {\n",
       "        text-align: right;\n",
       "    }\n",
       "</style>\n",
       "<table border=\"1\" class=\"dataframe\">\n",
       "  <thead>\n",
       "    <tr style=\"text-align: right;\">\n",
       "      <th></th>\n",
       "      <th>Class</th>\n",
       "      <th>Text</th>\n",
       "    </tr>\n",
       "  </thead>\n",
       "  <tbody>\n",
       "    <tr>\n",
       "      <th>0</th>\n",
       "      <td>1</td>\n",
       "      <td>Today, Senate Dems vote to #SaveTheInternet. P...</td>\n",
       "    </tr>\n",
       "    <tr>\n",
       "      <th>1</th>\n",
       "      <td>1</td>\n",
       "      <td>RT @WinterHavenSun: Winter Haven resident / Al...</td>\n",
       "    </tr>\n",
       "    <tr>\n",
       "      <th>2</th>\n",
       "      <td>1</td>\n",
       "      <td>RT @NBCLatino: .@RepDarrenSoto noted that Hurr...</td>\n",
       "    </tr>\n",
       "    <tr>\n",
       "      <th>3</th>\n",
       "      <td>1</td>\n",
       "      <td>RT @NALCABPolicy: Meeting with @RepDarrenSoto ...</td>\n",
       "    </tr>\n",
       "    <tr>\n",
       "      <th>4</th>\n",
       "      <td>1</td>\n",
       "      <td>RT @Vegalteno: Hurricane season starts on June...</td>\n",
       "    </tr>\n",
       "  </tbody>\n",
       "</table>\n",
       "</div>"
      ],
      "text/plain": [
       "  Class                                               Text\n",
       "0     1  Today, Senate Dems vote to #SaveTheInternet. P...\n",
       "1     1  RT @WinterHavenSun: Winter Haven resident / Al...\n",
       "2     1  RT @NBCLatino: .@RepDarrenSoto noted that Hurr...\n",
       "3     1  RT @NALCABPolicy: Meeting with @RepDarrenSoto ...\n",
       "4     1  RT @Vegalteno: Hurricane season starts on June..."
      ]
     },
     "execution_count": 4,
     "metadata": {},
     "output_type": "execute_result"
    }
   ],
   "source": [
    "data.head()"
   ]
  },
  {
   "cell_type": "code",
   "execution_count": 5,
   "metadata": {},
   "outputs": [
    {
     "data": {
      "text/plain": [
       "Class    0\n",
       "Text     1\n",
       "dtype: int64"
      ]
     },
     "execution_count": 5,
     "metadata": {},
     "output_type": "execute_result"
    }
   ],
   "source": [
    "data.isnull().sum()"
   ]
  },
  {
   "cell_type": "code",
   "execution_count": 6,
   "metadata": {},
   "outputs": [],
   "source": [
    "data.dropna(inplace=True)\n",
    "data.reset_index(drop=True, inplace=True)"
   ]
  },
  {
   "cell_type": "code",
   "execution_count": 7,
   "metadata": {},
   "outputs": [
    {
     "data": {
      "text/plain": [
       "(86460, 2)"
      ]
     },
     "execution_count": 7,
     "metadata": {},
     "output_type": "execute_result"
    }
   ],
   "source": [
    "data.shape"
   ]
  },
  {
   "cell_type": "code",
   "execution_count": 8,
   "metadata": {},
   "outputs": [
    {
     "name": "stderr",
     "output_type": "stream",
     "text": [
      "C:\\Users\\ajay\\Anaconda3\\lib\\site-packages\\seaborn\\_decorators.py:43: FutureWarning: Pass the following variable as a keyword arg: x. From version 0.12, the only valid positional argument will be `data`, and passing other arguments without an explicit keyword will result in an error or misinterpretation.\n",
      "  FutureWarning\n"
     ]
    },
    {
     "data": {
      "text/plain": [
       "<AxesSubplot:xlabel='Class', ylabel='count'>"
      ]
     },
     "execution_count": 8,
     "metadata": {},
     "output_type": "execute_result"
    },
    {
     "data": {
      "image/png": "[encoded data removed]",
      "text/plain": [
       "<Figure size 432x288 with 1 Axes>"
      ]
     },
     "metadata": {
      "needs_background": "light"
     },
     "output_type": "display_data"
    }
   ],
   "source": [
    "sns.countplot(data['Class'])"
   ]
  },
  {
   "cell_type": "code",
   "execution_count": 9,
   "metadata": {},
   "outputs": [
    {
     "name": "stderr",
     "output_type": "stream",
     "text": [
      "Using TensorFlow backend.\n"
     ]
    }
   ],
   "source": [
    "from keras.layers import Dense,BatchNormalization,Conv1D,MaxPooling1D,LSTM,Dropout\n",
    "from keras.models import Sequential\n",
    "from keras.preprocessing.text import one_hot\n",
    "from keras.layers import Embedding\n",
    "from keras.preprocessing.sequence import pad_sequences"
   ]
  },
  {
   "cell_type": "code",
   "execution_count": 10,
   "metadata": {},
   "outputs": [],
   "source": [
    "message=data['Text'].copy()"
   ]
  },
  {
   "cell_type": "code",
   "execution_count": 11,
   "metadata": {},
   "outputs": [
    {
     "data": {
      "text/plain": [
       "0        Today, Senate Dems vote to #SaveTheInternet. P...\n",
       "1        RT @WinterHavenSun: Winter Haven resident / Al...\n",
       "2        RT @NBCLatino: .@RepDarrenSoto noted that Hurr...\n",
       "3        RT @NALCABPolicy: Meeting with @RepDarrenSoto ...\n",
       "4        RT @Vegalteno: Hurricane season starts on June...\n",
       "                               ...                        \n",
       "86455    Check out my op-ed on need for End Executive O...\n",
       "86456    Yesterday, Betty &amp; I had a great time lear...\n",
       "86457    We are forever grateful for the service and sa...\n",
       "86458    Happy first day of school @CobbSchools! #CobbB...\n",
       "86459    #Zika fears realized in Florida. House GOP act...\n",
       "Name: Text, Length: 86460, dtype: object"
      ]
     },
     "execution_count": 11,
     "metadata": {},
     "output_type": "execute_result"
    }
   ],
   "source": [
    "message"
   ]
  },
  {
   "cell_type": "code",
   "execution_count": 12,
   "metadata": {},
   "outputs": [],
   "source": [
    "label=data['Class'].copy()"
   ]
  },
  {
   "cell_type": "code",
   "execution_count": 13,
   "metadata": {},
   "outputs": [],
   "source": [
    "import re\n",
    "import nltk\n",
    "from nltk.corpus import stopwords"
   ]
  },
  {
   "cell_type": "code",
   "execution_count": 14,
   "metadata": {},
   "outputs": [],
   "source": [
    "voc_size=10000\n",
    "sent_length=50"
   ]
  },
  {
   "cell_type": "code",
   "execution_count": 15,
   "metadata": {},
   "outputs": [],
   "source": [
    "def feature_scaling(message,voc_size,set_length):\n",
    "    \n",
    "    ps=nltk.PorterStemmer()\n",
    "    corpus=[]\n",
    "    for i in range(0,len(message)):\n",
    "        review=re.sub('[^a-zA-Z]',' ',message[i])\n",
    "        review=review.lower()\n",
    "        review=review.split()\n",
    "        review=[ps.stem(word) for word in review if not word in stopwords.words('english')]\n",
    "        review=' '.join(review)\n",
    "        corpus.append(review)\n",
    "    onehot_repr=[one_hot(words,voc_size) for words in corpus]\n",
    "    embedded_docs=pad_sequences(onehot_repr,padding='pre',maxlen=sent_length)\n",
    "    X=np.array(embedded_docs)\n",
    "    return X\n"
   ]
  },
  {
   "cell_type": "code",
   "execution_count": 16,
   "metadata": {},
   "outputs": [],
   "source": [
    "X=feature_scaling(message,voc_size,sent_length)"
   ]
  },
  {
   "cell_type": "code",
   "execution_count": 17,
   "metadata": {},
   "outputs": [
    {
     "data": {
      "text/plain": [
       "array([[   0,    0,    0, ..., 3923, 5874, 4292],\n",
       "       [   0,    0,    0, ..., 2453, 3728,  820],\n",
       "       [   0,    0,    0, ..., 2593, 4086,  297],\n",
       "       ...,\n",
       "       [   0,    0,    0, ..., 1888, 6232, 6788],\n",
       "       [   0,    0,    0, ..., 3697,  455, 5900],\n",
       "       [   0,    0,    0, ..., 2965, 3267, 6534]])"
      ]
     },
     "execution_count": 17,
     "metadata": {},
     "output_type": "execute_result"
    }
   ],
   "source": [
    "X"
   ]
  },
  {
   "cell_type": "code",
   "execution_count": 18,
   "metadata": {},
   "outputs": [
    {
     "data": {
      "text/plain": [
       "86460"
      ]
     },
     "execution_count": 18,
     "metadata": {},
     "output_type": "execute_result"
    }
   ],
   "source": [
    "len(label)"
   ]
  },
  {
   "cell_type": "code",
   "execution_count": 19,
   "metadata": {},
   "outputs": [],
   "source": [
    "from keras.layers import Bidirectional"
   ]
  },
  {
   "cell_type": "code",
   "execution_count": null,
   "metadata": {},
   "outputs": [],
   "source": [
    "model.add(Embedding(voc_size,50))\n",
    "model.add(Conv1D(filters=32, kernel_size=2,input_dim=50,padding='same', activation='relu'))\n",
    "model.add(MaxPooling1D(pool_size=2))\n",
    "model.add(Dropout(0.8))\n",
    "model.add(Bidirectional(LSTM(100)))\n",
    "model.add(Dropout(0.5))"
   ]
  },
  {
   "cell_type": "code",
   "execution_count": 49,
   "metadata": {},
   "outputs": [
    {
     "name": "stderr",
     "output_type": "stream",
     "text": [
      "C:\\Users\\ajay\\Anaconda3\\lib\\site-packages\\ipykernel_launcher.py:3: UserWarning: Update your `Conv1D` call to the Keras 2 API: `Conv1D(filters=32, kernel_size=2, padding=\"same\", activation=\"relu\", input_shape=(None, 50))`\n",
      "  This is separate from the ipykernel package so we can avoid doing imports until\n"
     ]
    }
   ],
   "source": [
    "model=Sequential()\n",
    "model.add(Embedding(voc_size,50,input_length=sent_length))\n",
    "model.add(Conv1D(filters=32, kernel_size=2,input_dim=50,padding='same', activation='relu'))\n",
    "model.add(MaxPooling1D(pool_size=2))\n",
    "model.add(Dropout(0.2))\n",
    "model.add(Bidirectional(LSTM(50)))\n",
    "model.add(Dropout(.2))\n",
    "model.add(Dense(100,activation='relu'))\n",
    "model.add(Dropout(0.2))\n",
    "\n",
    "model.add(Dense(1,activation='sigmoid'))\n",
    "model.compile(loss='binary_crossentropy',optimizer='adam',metrics=['accuracy'])\n"
   ]
  },
  {
   "cell_type": "code",
   "execution_count": 50,
   "metadata": {},
   "outputs": [
    {
     "name": "stdout",
     "output_type": "stream",
     "text": [
      "Model: \"sequential_10\"\n",
      "_________________________________________________________________\n",
      "Layer (type)                 Output Shape              Param #   \n",
      "=================================================================\n",
      "embedding_10 (Embedding)     (None, 50, 50)            500000    \n",
      "_________________________________________________________________\n",
      "conv1d_10 (Conv1D)           (None, 50, 32)            3232      \n",
      "_________________________________________________________________\n",
      "max_pooling1d_9 (MaxPooling1 (None, 25, 32)            0         \n",
      "_________________________________________________________________\n",
      "dropout_20 (Dropout)         (None, 25, 32)            0         \n",
      "_________________________________________________________________\n",
      "bidirectional_10 (Bidirectio (None, 100)               33200     \n",
      "_________________________________________________________________\n",
      "dropout_21 (Dropout)         (None, 100)               0         \n",
      "_________________________________________________________________\n",
      "dense_19 (Dense)             (None, 100)               10100     \n",
      "_________________________________________________________________\n",
      "dropout_22 (Dropout)         (None, 100)               0         \n",
      "_________________________________________________________________\n",
      "dense_20 (Dense)             (None, 1)                 101       \n",
      "=================================================================\n",
      "Total params: 546,633\n",
      "Trainable params: 546,633\n",
      "Non-trainable params: 0\n",
      "_________________________________________________________________\n"
     ]
    }
   ],
   "source": [
    "model.summary()"
   ]
  },
  {
   "cell_type": "code",
   "execution_count": 39,
   "metadata": {},
   "outputs": [],
   "source": [
    "from sklearn.model_selection import train_test_split"
   ]
  },
  {
   "cell_type": "code",
   "execution_count": 40,
   "metadata": {},
   "outputs": [],
   "source": [
    "X_train,X_test,y_train,y_test=train_test_split(X,label,random_state=20,test_size=.3)"
   ]
  },
  {
   "cell_type": "code",
   "execution_count": 51,
   "metadata": {},
   "outputs": [
    {
     "name": "stderr",
     "output_type": "stream",
     "text": [
      "C:\\Users\\ajay\\AppData\\Roaming\\Python\\Python37\\site-packages\\tensorflow_core\\python\\framework\\indexed_slices.py:433: UserWarning: Converting sparse IndexedSlices to a dense Tensor of unknown shape. This may consume a large amount of memory.\n",
      "  \"Converting sparse IndexedSlices to a dense Tensor of unknown shape. \"\n"
     ]
    },
    {
     "name": "stdout",
     "output_type": "stream",
     "text": [
      "Train on 60522 samples, validate on 25938 samples\n",
      "Epoch 1/10\n",
      "60522/60522 [==============================] - 60s 987us/step - loss: 0.5549 - accuracy: 0.6959 - val_loss: 0.4912 - val_accuracy: 0.7523\n",
      "Epoch 2/10\n",
      "60522/60522 [==============================] - 53s 879us/step - loss: 0.4367 - accuracy: 0.7913 - val_loss: 0.4875 - val_accuracy: 0.7570\n",
      "Epoch 3/10\n",
      "60522/60522 [==============================] - 66s 1ms/step - loss: 0.3707 - accuracy: 0.8316 - val_loss: 0.5030 - val_accuracy: 0.7510\n",
      "Epoch 4/10\n",
      "60522/60522 [==============================] - 62s 1ms/step - loss: 0.3004 - accuracy: 0.8692 - val_loss: 0.5479 - val_accuracy: 0.7518\n",
      "Epoch 5/10\n",
      "60522/60522 [==============================] - 54s 898us/step - loss: 0.2298 - accuracy: 0.9041 - val_loss: 0.6472 - val_accuracy: 0.7481\n",
      "Epoch 6/10\n",
      "60522/60522 [==============================] - 62s 1ms/step - loss: 0.1783 - accuracy: 0.9256 - val_loss: 0.7644 - val_accuracy: 0.7465\n",
      "Epoch 7/10\n",
      "60522/60522 [==============================] - 63s 1ms/step - loss: 0.1430 - accuracy: 0.9434 - val_loss: 0.8135 - val_accuracy: 0.7418\n",
      "Epoch 8/10\n",
      "60522/60522 [==============================] - 45s 743us/step - loss: 0.1184 - accuracy: 0.9541 - val_loss: 0.9346 - val_accuracy: 0.7433\n",
      "Epoch 9/10\n",
      "60522/60522 [==============================] - 47s 783us/step - loss: 0.0991 - accuracy: 0.9627 - val_loss: 1.0731 - val_accuracy: 0.7376\n",
      "Epoch 10/10\n",
      "60522/60522 [==============================] - 46s 766us/step - loss: 0.0891 - accuracy: 0.9660 - val_loss: 1.0255 - val_accuracy: 0.7412\n"
     ]
    }
   ],
   "source": [
    "hist=model.fit(X_train,y_train,epochs=10,batch_size=128,validation_data=(X_test,y_test))"
   ]
  },
  {
   "cell_type": "code",
   "execution_count": 140,
   "metadata": {},
   "outputs": [],
   "source": [
    "model.save('nlp1.h5')"
   ]
  },
  {
   "cell_type": "code",
   "execution_count": 59,
   "metadata": {},
   "outputs": [
    {
     "data": {
      "image/png": "[encoded data removed]",
      "text/plain": [
       "<Figure size 1080x576 with 2 Axes>"
      ]
     },
     "metadata": {
      "needs_background": "light"
     },
     "output_type": "display_data"
    }
   ],
   "source": [
    "plt.figure(figsize=(15,8))\n",
    "a=plt.subplot(1,2,1)\n",
    "plt.plot(hist.history['accuracy'],'--',color='b',label='train_acc')\n",
    "plt.plot(hist.history['val_accuracy'],'--',color='r',label='test_acc')\n",
    "plt.title('training Data')\n",
    "plt.legend()\n",
    "plt.grid(linewidth=2)\n",
    "a=plt.subplot(1,2,2)\n",
    "plt.plot(hist.history['loss'],'--',color='b',label='train_loss')\n",
    "plt.plot(hist.history['val_loss'],'--',color='r',label='val_loss')\n",
    "plt.title('training Data')\n",
    "plt.legend()\n",
    "plt.grid(linewidth=2)\n",
    "plt.show()"
   ]
  },
  {
   "cell_type": "code",
   "execution_count": 53,
   "metadata": {},
   "outputs": [],
   "source": [
    "from sklearn.metrics import confusion_matrix,accuracy_score"
   ]
  },
  {
   "cell_type": "code",
   "execution_count": 54,
   "metadata": {},
   "outputs": [],
   "source": [
    "pred=model.predict_classes(X)"
   ]
  },
  {
   "cell_type": "code",
   "execution_count": 55,
   "metadata": {},
   "outputs": [],
   "source": [
    "label=np.array(label)"
   ]
  },
  {
   "cell_type": "code",
   "execution_count": 56,
   "metadata": {},
   "outputs": [],
   "source": [
    "labels=label.astype('int32')"
   ]
  },
  {
   "cell_type": "code",
   "execution_count": 57,
   "metadata": {},
   "outputs": [],
   "source": [
    "label=label.reshape(86460,1)"
   ]
  },
  {
   "cell_type": "code",
   "execution_count": 58,
   "metadata": {},
   "outputs": [],
   "source": [
    "accuracy=accuracy_score(labels,pred)"
   ]
  },
  {
   "cell_type": "code",
   "execution_count": 60,
   "metadata": {},
   "outputs": [
    {
     "data": {
      "text/plain": [
       "0.9164931760351608"
      ]
     },
     "execution_count": 60,
     "metadata": {},
     "output_type": "execute_result"
    }
   ],
   "source": [
    "accuracy"
   ]
  },
  {
   "cell_type": "code",
   "execution_count": 61,
   "metadata": {},
   "outputs": [
    {
     "data": {
      "text/plain": [
       "<AxesSubplot:>"
      ]
     },
     "execution_count": 61,
     "metadata": {},
     "output_type": "execute_result"
    },
    {
     "data": {
      "image/png": "[encoded data removed]",
      "text/plain": [
       "<Figure size 432x288 with 2 Axes>"
      ]
     },
     "metadata": {
      "needs_background": "light"
     },
     "output_type": "display_data"
    }
   ],
   "source": [
    "sns.heatmap(confusion_matrix(labels,pred),annot=True)"
   ]
  },
  {
   "cell_type": "code",
   "execution_count": null,
   "metadata": {},
   "outputs": [],
   "source": []
  }
 ],
 "metadata": {
  "kernelspec": {
   "display_name": "Python 3",
   "language": "python",
   "name": "python3"
  },
  "language_info": {
   "codemirror_mode": {
    "name": "ipython",
    "version": 3
   },
   "file_extension": ".py",
   "mimetype": "text/x-python",
   "name": "python",
   "nbconvert_exporter": "python",
   "pygments_lexer": "ipython3",
   "version": "3.7.1"
  }
 },
 "nbformat": 4,
 "nbformat_minor": 4
}
